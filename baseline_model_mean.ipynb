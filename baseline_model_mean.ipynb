{
  "nbformat": 4,
  "nbformat_minor": 0,
  "metadata": {
    "colab": {
      "provenance": [],
      "mount_file_id": "1lGd9r_cFQysWVFkrTyQ56D4Tv6KXYgZC",
      "authorship_tag": "ABX9TyPm7gHlbb0R5RqLGuINI7qQ",
      "include_colab_link": true
    },
    "kernelspec": {
      "name": "python3",
      "display_name": "Python 3"
    },
    "language_info": {
      "name": "python"
    }
  },
  "cells": [
    {
      "cell_type": "markdown",
      "metadata": {
        "id": "view-in-github",
        "colab_type": "text"
      },
      "source": [
        "<a href=\"https://colab.research.google.com/github/michael0806/Front-end-Developer-Technical-Test/blob/master/baseline_model_mean.ipynb\" target=\"_parent\"><img src=\"https://colab.research.google.com/assets/colab-badge.svg\" alt=\"Open In Colab\"/></a>"
      ]
    },
    {
      "cell_type": "code",
      "execution_count": 1,
      "metadata": {
        "id": "BisUfnnxVOXv"
      },
      "outputs": [],
      "source": [
        "import numpy as np # linear algebra\n",
        "import pandas as pd # data processing, CSV file I/O (e.g. pd.read_csv)\n",
        "\n",
        "# Input data files are available in the \"../input/\" directory.\n",
        "# For example, running this (by clicking run or pressing Shift+Enter) will list the files in the input directory\n",
        "\n",
        "import matplotlib.pyplot as plt\n",
        "import seaborn as sns\n",
        "from sklearn.model_selection import train_test_split\n",
        "from sklearn.linear_model import LinearRegression\n",
        "from sklearn.tree import DecisionTreeRegressor\n",
        "from sklearn.ensemble import RandomForestRegressor\n",
        "from sklearn.metrics import explained_variance_score\n",
        "from sklearn.metrics import confusion_matrix\n",
        "from sklearn.metrics import r2_score, mean_squared_error\n",
        "from sklearn.metrics import mean_absolute_error\n",
        "from sklearn.model_selection import train_test_split\n",
        "\n",
        "import os\n",
        "import warnings  \n",
        "warnings.filterwarnings('ignore')"
      ]
    },
    {
      "cell_type": "code",
      "source": [
        "df = pd.read_csv(\"/content/drive/MyDrive/Lab 02/Final_property_census_data.csv\")"
      ],
      "metadata": {
        "id": "CYXPqOaPWgv3"
      },
      "execution_count": 2,
      "outputs": []
    },
    {
      "cell_type": "code",
      "source": [
        "df.head()"
      ],
      "metadata": {
        "colab": {
          "base_uri": "https://localhost:8080/",
          "height": 317
        },
        "id": "yJN2pqp3dsTy",
        "outputId": "70b8bef9-063b-49cc-e77f-98c5ed6688e0"
      },
      "execution_count": 3,
      "outputs": [
        {
          "output_type": "execute_result",
          "data": {
            "text/plain": [
              "   Unnamed: 0  SA12018_code  averge_room  Male  Female  Average Age  European  \\\n",
              "0           0       7001130     2.684211  0.58    0.42    41.423077  0.703125   \n",
              "1           1       7001130     2.684211  0.58    0.42    41.423077  0.703125   \n",
              "2           2       7001130     2.684211  0.58    0.42    41.423077  0.703125   \n",
              "3           3       7001130     2.684211  0.58    0.42    41.423077  0.703125   \n",
              "4           4       7001130     2.684211  0.58    0.42    41.423077  0.703125   \n",
              "\n",
              "      Māori  Pacific Peoples  Asian  ...  SA22018_code  MB2018_code  \\\n",
              "0  0.265625              0.0    0.0  ...        111800       438800   \n",
              "1  0.265625              0.0    0.0  ...        111800       438800   \n",
              "2  0.265625              0.0    0.0  ...        111800       438800   \n",
              "3  0.265625              0.0    0.0  ...        111800       438800   \n",
              "4  0.265625              0.0    0.0  ...        111800       438800   \n",
              "\n",
              "   MB2021_code  MB2022_code  CL_Latitude  CL_Longitude  CL_Bedrooms  \\\n",
              "0       438800       438800   -36.173795    175.493763    -0.457969   \n",
              "1       438800       438800   -36.173795    175.493763    -0.457969   \n",
              "2       438800       438800   -36.178113    175.360303    -2.535410   \n",
              "3       438800       438800   -36.177727    175.359824    -1.496689   \n",
              "4       438800       438800   -36.177727    175.359824    -1.496689   \n",
              "\n",
              "   CL_Bathrooms  Log_Sale_Price_Net  school_count  \n",
              "0      0.177756           12.769965             2  \n",
              "1      0.177756           12.810389             2  \n",
              "2     -0.691360           12.842649             0  \n",
              "3      0.177756           11.112448             0  \n",
              "4      0.177756           12.025749             0  \n",
              "\n",
              "[5 rows x 56 columns]"
            ],
            "text/html": [
              "\n",
              "  <div id=\"df-78944cc6-fdfb-40ad-91ea-b3f60eb6fbd6\">\n",
              "    <div class=\"colab-df-container\">\n",
              "      <div>\n",
              "<style scoped>\n",
              "    .dataframe tbody tr th:only-of-type {\n",
              "        vertical-align: middle;\n",
              "    }\n",
              "\n",
              "    .dataframe tbody tr th {\n",
              "        vertical-align: top;\n",
              "    }\n",
              "\n",
              "    .dataframe thead th {\n",
              "        text-align: right;\n",
              "    }\n",
              "</style>\n",
              "<table border=\"1\" class=\"dataframe\">\n",
              "  <thead>\n",
              "    <tr style=\"text-align: right;\">\n",
              "      <th></th>\n",
              "      <th>Unnamed: 0</th>\n",
              "      <th>SA12018_code</th>\n",
              "      <th>averge_room</th>\n",
              "      <th>Male</th>\n",
              "      <th>Female</th>\n",
              "      <th>Average Age</th>\n",
              "      <th>European</th>\n",
              "      <th>Māori</th>\n",
              "      <th>Pacific Peoples</th>\n",
              "      <th>Asian</th>\n",
              "      <th>...</th>\n",
              "      <th>SA22018_code</th>\n",
              "      <th>MB2018_code</th>\n",
              "      <th>MB2021_code</th>\n",
              "      <th>MB2022_code</th>\n",
              "      <th>CL_Latitude</th>\n",
              "      <th>CL_Longitude</th>\n",
              "      <th>CL_Bedrooms</th>\n",
              "      <th>CL_Bathrooms</th>\n",
              "      <th>Log_Sale_Price_Net</th>\n",
              "      <th>school_count</th>\n",
              "    </tr>\n",
              "  </thead>\n",
              "  <tbody>\n",
              "    <tr>\n",
              "      <th>0</th>\n",
              "      <td>0</td>\n",
              "      <td>7001130</td>\n",
              "      <td>2.684211</td>\n",
              "      <td>0.58</td>\n",
              "      <td>0.42</td>\n",
              "      <td>41.423077</td>\n",
              "      <td>0.703125</td>\n",
              "      <td>0.265625</td>\n",
              "      <td>0.0</td>\n",
              "      <td>0.0</td>\n",
              "      <td>...</td>\n",
              "      <td>111800</td>\n",
              "      <td>438800</td>\n",
              "      <td>438800</td>\n",
              "      <td>438800</td>\n",
              "      <td>-36.173795</td>\n",
              "      <td>175.493763</td>\n",
              "      <td>-0.457969</td>\n",
              "      <td>0.177756</td>\n",
              "      <td>12.769965</td>\n",
              "      <td>2</td>\n",
              "    </tr>\n",
              "    <tr>\n",
              "      <th>1</th>\n",
              "      <td>1</td>\n",
              "      <td>7001130</td>\n",
              "      <td>2.684211</td>\n",
              "      <td>0.58</td>\n",
              "      <td>0.42</td>\n",
              "      <td>41.423077</td>\n",
              "      <td>0.703125</td>\n",
              "      <td>0.265625</td>\n",
              "      <td>0.0</td>\n",
              "      <td>0.0</td>\n",
              "      <td>...</td>\n",
              "      <td>111800</td>\n",
              "      <td>438800</td>\n",
              "      <td>438800</td>\n",
              "      <td>438800</td>\n",
              "      <td>-36.173795</td>\n",
              "      <td>175.493763</td>\n",
              "      <td>-0.457969</td>\n",
              "      <td>0.177756</td>\n",
              "      <td>12.810389</td>\n",
              "      <td>2</td>\n",
              "    </tr>\n",
              "    <tr>\n",
              "      <th>2</th>\n",
              "      <td>2</td>\n",
              "      <td>7001130</td>\n",
              "      <td>2.684211</td>\n",
              "      <td>0.58</td>\n",
              "      <td>0.42</td>\n",
              "      <td>41.423077</td>\n",
              "      <td>0.703125</td>\n",
              "      <td>0.265625</td>\n",
              "      <td>0.0</td>\n",
              "      <td>0.0</td>\n",
              "      <td>...</td>\n",
              "      <td>111800</td>\n",
              "      <td>438800</td>\n",
              "      <td>438800</td>\n",
              "      <td>438800</td>\n",
              "      <td>-36.178113</td>\n",
              "      <td>175.360303</td>\n",
              "      <td>-2.535410</td>\n",
              "      <td>-0.691360</td>\n",
              "      <td>12.842649</td>\n",
              "      <td>0</td>\n",
              "    </tr>\n",
              "    <tr>\n",
              "      <th>3</th>\n",
              "      <td>3</td>\n",
              "      <td>7001130</td>\n",
              "      <td>2.684211</td>\n",
              "      <td>0.58</td>\n",
              "      <td>0.42</td>\n",
              "      <td>41.423077</td>\n",
              "      <td>0.703125</td>\n",
              "      <td>0.265625</td>\n",
              "      <td>0.0</td>\n",
              "      <td>0.0</td>\n",
              "      <td>...</td>\n",
              "      <td>111800</td>\n",
              "      <td>438800</td>\n",
              "      <td>438800</td>\n",
              "      <td>438800</td>\n",
              "      <td>-36.177727</td>\n",
              "      <td>175.359824</td>\n",
              "      <td>-1.496689</td>\n",
              "      <td>0.177756</td>\n",
              "      <td>11.112448</td>\n",
              "      <td>0</td>\n",
              "    </tr>\n",
              "    <tr>\n",
              "      <th>4</th>\n",
              "      <td>4</td>\n",
              "      <td>7001130</td>\n",
              "      <td>2.684211</td>\n",
              "      <td>0.58</td>\n",
              "      <td>0.42</td>\n",
              "      <td>41.423077</td>\n",
              "      <td>0.703125</td>\n",
              "      <td>0.265625</td>\n",
              "      <td>0.0</td>\n",
              "      <td>0.0</td>\n",
              "      <td>...</td>\n",
              "      <td>111800</td>\n",
              "      <td>438800</td>\n",
              "      <td>438800</td>\n",
              "      <td>438800</td>\n",
              "      <td>-36.177727</td>\n",
              "      <td>175.359824</td>\n",
              "      <td>-1.496689</td>\n",
              "      <td>0.177756</td>\n",
              "      <td>12.025749</td>\n",
              "      <td>0</td>\n",
              "    </tr>\n",
              "  </tbody>\n",
              "</table>\n",
              "<p>5 rows × 56 columns</p>\n",
              "</div>\n",
              "      <button class=\"colab-df-convert\" onclick=\"convertToInteractive('df-78944cc6-fdfb-40ad-91ea-b3f60eb6fbd6')\"\n",
              "              title=\"Convert this dataframe to an interactive table.\"\n",
              "              style=\"display:none;\">\n",
              "        \n",
              "  <svg xmlns=\"http://www.w3.org/2000/svg\" height=\"24px\"viewBox=\"0 0 24 24\"\n",
              "       width=\"24px\">\n",
              "    <path d=\"M0 0h24v24H0V0z\" fill=\"none\"/>\n",
              "    <path d=\"M18.56 5.44l.94 2.06.94-2.06 2.06-.94-2.06-.94-.94-2.06-.94 2.06-2.06.94zm-11 1L8.5 8.5l.94-2.06 2.06-.94-2.06-.94L8.5 2.5l-.94 2.06-2.06.94zm10 10l.94 2.06.94-2.06 2.06-.94-2.06-.94-.94-2.06-.94 2.06-2.06.94z\"/><path d=\"M17.41 7.96l-1.37-1.37c-.4-.4-.92-.59-1.43-.59-.52 0-1.04.2-1.43.59L10.3 9.45l-7.72 7.72c-.78.78-.78 2.05 0 2.83L4 21.41c.39.39.9.59 1.41.59.51 0 1.02-.2 1.41-.59l7.78-7.78 2.81-2.81c.8-.78.8-2.07 0-2.86zM5.41 20L4 18.59l7.72-7.72 1.47 1.35L5.41 20z\"/>\n",
              "  </svg>\n",
              "      </button>\n",
              "      \n",
              "  <style>\n",
              "    .colab-df-container {\n",
              "      display:flex;\n",
              "      flex-wrap:wrap;\n",
              "      gap: 12px;\n",
              "    }\n",
              "\n",
              "    .colab-df-convert {\n",
              "      background-color: #E8F0FE;\n",
              "      border: none;\n",
              "      border-radius: 50%;\n",
              "      cursor: pointer;\n",
              "      display: none;\n",
              "      fill: #1967D2;\n",
              "      height: 32px;\n",
              "      padding: 0 0 0 0;\n",
              "      width: 32px;\n",
              "    }\n",
              "\n",
              "    .colab-df-convert:hover {\n",
              "      background-color: #E2EBFA;\n",
              "      box-shadow: 0px 1px 2px rgba(60, 64, 67, 0.3), 0px 1px 3px 1px rgba(60, 64, 67, 0.15);\n",
              "      fill: #174EA6;\n",
              "    }\n",
              "\n",
              "    [theme=dark] .colab-df-convert {\n",
              "      background-color: #3B4455;\n",
              "      fill: #D2E3FC;\n",
              "    }\n",
              "\n",
              "    [theme=dark] .colab-df-convert:hover {\n",
              "      background-color: #434B5C;\n",
              "      box-shadow: 0px 1px 3px 1px rgba(0, 0, 0, 0.15);\n",
              "      filter: drop-shadow(0px 1px 2px rgba(0, 0, 0, 0.3));\n",
              "      fill: #FFFFFF;\n",
              "    }\n",
              "  </style>\n",
              "\n",
              "      <script>\n",
              "        const buttonEl =\n",
              "          document.querySelector('#df-78944cc6-fdfb-40ad-91ea-b3f60eb6fbd6 button.colab-df-convert');\n",
              "        buttonEl.style.display =\n",
              "          google.colab.kernel.accessAllowed ? 'block' : 'none';\n",
              "\n",
              "        async function convertToInteractive(key) {\n",
              "          const element = document.querySelector('#df-78944cc6-fdfb-40ad-91ea-b3f60eb6fbd6');\n",
              "          const dataTable =\n",
              "            await google.colab.kernel.invokeFunction('convertToInteractive',\n",
              "                                                     [key], {});\n",
              "          if (!dataTable) return;\n",
              "\n",
              "          const docLinkHtml = 'Like what you see? Visit the ' +\n",
              "            '<a target=\"_blank\" href=https://colab.research.google.com/notebooks/data_table.ipynb>data table notebook</a>'\n",
              "            + ' to learn more about interactive tables.';\n",
              "          element.innerHTML = '';\n",
              "          dataTable['output_type'] = 'display_data';\n",
              "          await google.colab.output.renderOutput(dataTable, element);\n",
              "          const docLink = document.createElement('div');\n",
              "          docLink.innerHTML = docLinkHtml;\n",
              "          element.appendChild(docLink);\n",
              "        }\n",
              "      </script>\n",
              "    </div>\n",
              "  </div>\n",
              "  "
            ]
          },
          "metadata": {},
          "execution_count": 3
        }
      ]
    },
    {
      "cell_type": "code",
      "source": [
        "df.drop(columns=df.columns[0], axis=1, inplace=True)"
      ],
      "metadata": {
        "id": "mlNg8dXOgGMC"
      },
      "execution_count": 4,
      "outputs": []
    },
    {
      "cell_type": "code",
      "source": [
        "#Check whether there is any null values\n",
        "df.info()"
      ],
      "metadata": {
        "colab": {
          "base_uri": "https://localhost:8080/"
        },
        "id": "NBfeAD77fPFe",
        "outputId": "987a2184-b64b-4d7c-92cd-c775d269cf7f"
      },
      "execution_count": 5,
      "outputs": [
        {
          "output_type": "stream",
          "name": "stdout",
          "text": [
            "<class 'pandas.core.frame.DataFrame'>\n",
            "RangeIndex: 1044922 entries, 0 to 1044921\n",
            "Data columns (total 55 columns):\n",
            " #   Column                                     Non-Null Count    Dtype  \n",
            "---  ------                                     --------------    -----  \n",
            " 0   SA12018_code                               1044922 non-null  int64  \n",
            " 1   averge_room                                1044922 non-null  float64\n",
            " 2   Male                                       1044922 non-null  float64\n",
            " 3   Female                                     1044922 non-null  float64\n",
            " 4   Average Age                                1044922 non-null  float64\n",
            " 5   European                                   1044922 non-null  float64\n",
            " 6   Māori                                      1044922 non-null  float64\n",
            " 7   Pacific Peoples                            1044922 non-null  float64\n",
            " 8   Asian                                      1044922 non-null  float64\n",
            " 9   Middle Eastern / Latin American / African  1044922 non-null  float64\n",
            " 10  Other Ethnicity                            1044922 non-null  float64\n",
            " 11  New Zealander(19)                          1044922 non-null  float64\n",
            " 12  Other Ethnicity nec(19)                    1044922 non-null  float64\n",
            " 13  Median personal income($)                  1044922 non-null  int64  \n",
            " 14  Employed Full time                         1044922 non-null  float64\n",
            " 15  Employed Part time                         1044922 non-null  float64\n",
            " 16  Unemployed                                 1044922 non-null  float64\n",
            " 17  Paid employee                              1044922 non-null  float64\n",
            " 18  Employer                                   1044922 non-null  float64\n",
            " 19  Self employed and without employees        1044922 non-null  int64  \n",
            " 20  Unpaid family worker                       1044922 non-null  float64\n",
            " 21  mean_CV                                    1044922 non-null  float64\n",
            " 22  mean_FA                                    1044922 non-null  float64\n",
            " 23  mean_AR                                    1044922 non-null  float64\n",
            " 24  mean_bed                                   1044922 non-null  float64\n",
            " 25  mean_Bath                                  1044922 non-null  float64\n",
            " 26  mean_Price                                 1044922 non-null  float64\n",
            " 27  mean_school                                1044922 non-null  float64\n",
            " 28  CL_QPID                                    1044922 non-null  int64  \n",
            " 29  CL_Suburb                                  1044922 non-null  int64  \n",
            " 30  MB2013_code                                1044922 non-null  float64\n",
            " 31  CL_Sale_Tenure                             1044922 non-null  int64  \n",
            " 32  CL_Sale_Date                               1044922 non-null  int64  \n",
            " 33  CL_Land_Valuation_Capital_Value            1044922 non-null  float64\n",
            " 34  CL_Building_Floor_Area                     1044922 non-null  float64\n",
            " 35  CL_Building_Site_Cover                     1044922 non-null  float64\n",
            " 36  CL_Land_Area                               1044922 non-null  float64\n",
            " 37  CL_Bldg_Const                              1044922 non-null  int64  \n",
            " 38  CL_Bldg_Cond                               1044922 non-null  int64  \n",
            " 39  CL_Roof_Const                              1044922 non-null  int64  \n",
            " 40  CL_Roof_Cond                               1044922 non-null  int64  \n",
            " 41  CL_Category                                1044922 non-null  int64  \n",
            " 42  CL_LUD_Age                                 1044922 non-null  int64  \n",
            " 43  CL_LUD_Land_Use_Description                1044922 non-null  int64  \n",
            " 44  CL_MAS_No_Main_Roof_Garages                1044922 non-null  float64\n",
            " 45  SA22018_code                               1044922 non-null  int64  \n",
            " 46  MB2018_code                                1044922 non-null  int64  \n",
            " 47  MB2021_code                                1044922 non-null  int64  \n",
            " 48  MB2022_code                                1044922 non-null  int64  \n",
            " 49  CL_Latitude                                1044922 non-null  float64\n",
            " 50  CL_Longitude                               1044922 non-null  float64\n",
            " 51  CL_Bedrooms                                1044922 non-null  float64\n",
            " 52  CL_Bathrooms                               1044922 non-null  float64\n",
            " 53  Log_Sale_Price_Net                         1044922 non-null  float64\n",
            " 54  school_count                               1044922 non-null  int64  \n",
            "dtypes: float64(36), int64(19)\n",
            "memory usage: 438.5 MB\n"
          ]
        }
      ]
    },
    {
      "cell_type": "code",
      "source": [
        "df1 = pd.concat([df.iloc[:,21:28]],axis = 1)"
      ],
      "metadata": {
        "id": "uPtVGZ4MdEXJ"
      },
      "execution_count": 6,
      "outputs": []
    },
    {
      "cell_type": "code",
      "source": [
        "df1.info()"
      ],
      "metadata": {
        "colab": {
          "base_uri": "https://localhost:8080/"
        },
        "id": "HOLCMpfBs_gk",
        "outputId": "dd363a4c-276b-4a6e-a6b1-159c2a0b2c63"
      },
      "execution_count": 7,
      "outputs": [
        {
          "output_type": "stream",
          "name": "stdout",
          "text": [
            "<class 'pandas.core.frame.DataFrame'>\n",
            "RangeIndex: 1044922 entries, 0 to 1044921\n",
            "Data columns (total 7 columns):\n",
            " #   Column       Non-Null Count    Dtype  \n",
            "---  ------       --------------    -----  \n",
            " 0   mean_CV      1044922 non-null  float64\n",
            " 1   mean_FA      1044922 non-null  float64\n",
            " 2   mean_AR      1044922 non-null  float64\n",
            " 3   mean_bed     1044922 non-null  float64\n",
            " 4   mean_Bath    1044922 non-null  float64\n",
            " 5   mean_Price   1044922 non-null  float64\n",
            " 6   mean_school  1044922 non-null  float64\n",
            "dtypes: float64(7)\n",
            "memory usage: 55.8 MB\n"
          ]
        }
      ]
    },
    {
      "cell_type": "code",
      "source": [
        "#Check how many unique values are present in each column\n",
        "for value in df1:\n",
        "    print('For {},{} unique values present'.format(value,df[value].nunique()))"
      ],
      "metadata": {
        "colab": {
          "base_uri": "https://localhost:8080/"
        },
        "id": "68GcSMIigI8p",
        "outputId": "41d3f776-0ff3-47a6-b4de-6a8013308c32"
      },
      "execution_count": 8,
      "outputs": [
        {
          "output_type": "stream",
          "name": "stdout",
          "text": [
            "For mean_CV,730 unique values present\n",
            "For mean_FA,435 unique values present\n",
            "For mean_AR,1488 unique values present\n",
            "For mean_bed,9 unique values present\n",
            "For mean_Bath,8 unique values present\n",
            "For mean_Price,4012 unique values present\n",
            "For mean_school,11 unique values present\n"
          ]
        }
      ]
    },
    {
      "cell_type": "code",
      "source": [
        "df1.info()"
      ],
      "metadata": {
        "colab": {
          "base_uri": "https://localhost:8080/"
        },
        "id": "58yqWdrGtaIl",
        "outputId": "0f225af0-ea40-4888-c314-1823d1085866"
      },
      "execution_count": 9,
      "outputs": [
        {
          "output_type": "stream",
          "name": "stdout",
          "text": [
            "<class 'pandas.core.frame.DataFrame'>\n",
            "RangeIndex: 1044922 entries, 0 to 1044921\n",
            "Data columns (total 7 columns):\n",
            " #   Column       Non-Null Count    Dtype  \n",
            "---  ------       --------------    -----  \n",
            " 0   mean_CV      1044922 non-null  float64\n",
            " 1   mean_FA      1044922 non-null  float64\n",
            " 2   mean_AR      1044922 non-null  float64\n",
            " 3   mean_bed     1044922 non-null  float64\n",
            " 4   mean_Bath    1044922 non-null  float64\n",
            " 5   mean_Price   1044922 non-null  float64\n",
            " 6   mean_school  1044922 non-null  float64\n",
            "dtypes: float64(7)\n",
            "memory usage: 55.8 MB\n"
          ]
        }
      ]
    },
    {
      "cell_type": "code",
      "source": [
        "cor = df1.corr()\n",
        "cor"
      ],
      "metadata": {
        "colab": {
          "base_uri": "https://localhost:8080/",
          "height": 269
        },
        "id": "uy-1bG-M8wO1",
        "outputId": "7dddfbfd-1f47-4709-a62d-2fbb94ef08be"
      },
      "execution_count": 10,
      "outputs": [
        {
          "output_type": "execute_result",
          "data": {
            "text/plain": [
              "              mean_CV   mean_FA   mean_AR  mean_bed  mean_Bath  mean_Price  \\\n",
              "mean_CV      1.000000  0.726832 -0.033657  0.541334   0.702363    0.943422   \n",
              "mean_FA      0.726832  1.000000  0.165695  0.865440   0.837302    0.753399   \n",
              "mean_AR     -0.033657  0.165695  1.000000  0.199026   0.020613   -0.022233   \n",
              "mean_bed     0.541334  0.865440  0.199026  1.000000   0.737909    0.574149   \n",
              "mean_Bath    0.702363  0.837302  0.020613  0.737909   1.000000    0.725461   \n",
              "mean_Price   0.943422  0.753399 -0.022233  0.574149   0.725461    1.000000   \n",
              "mean_school  0.271549  0.329532 -0.157839  0.261477   0.366747    0.328206   \n",
              "\n",
              "             mean_school  \n",
              "mean_CV         0.271549  \n",
              "mean_FA         0.329532  \n",
              "mean_AR        -0.157839  \n",
              "mean_bed        0.261477  \n",
              "mean_Bath       0.366747  \n",
              "mean_Price      0.328206  \n",
              "mean_school     1.000000  "
            ],
            "text/html": [
              "\n",
              "  <div id=\"df-63746591-2917-4c3d-9b71-3a21acb88365\">\n",
              "    <div class=\"colab-df-container\">\n",
              "      <div>\n",
              "<style scoped>\n",
              "    .dataframe tbody tr th:only-of-type {\n",
              "        vertical-align: middle;\n",
              "    }\n",
              "\n",
              "    .dataframe tbody tr th {\n",
              "        vertical-align: top;\n",
              "    }\n",
              "\n",
              "    .dataframe thead th {\n",
              "        text-align: right;\n",
              "    }\n",
              "</style>\n",
              "<table border=\"1\" class=\"dataframe\">\n",
              "  <thead>\n",
              "    <tr style=\"text-align: right;\">\n",
              "      <th></th>\n",
              "      <th>mean_CV</th>\n",
              "      <th>mean_FA</th>\n",
              "      <th>mean_AR</th>\n",
              "      <th>mean_bed</th>\n",
              "      <th>mean_Bath</th>\n",
              "      <th>mean_Price</th>\n",
              "      <th>mean_school</th>\n",
              "    </tr>\n",
              "  </thead>\n",
              "  <tbody>\n",
              "    <tr>\n",
              "      <th>mean_CV</th>\n",
              "      <td>1.000000</td>\n",
              "      <td>0.726832</td>\n",
              "      <td>-0.033657</td>\n",
              "      <td>0.541334</td>\n",
              "      <td>0.702363</td>\n",
              "      <td>0.943422</td>\n",
              "      <td>0.271549</td>\n",
              "    </tr>\n",
              "    <tr>\n",
              "      <th>mean_FA</th>\n",
              "      <td>0.726832</td>\n",
              "      <td>1.000000</td>\n",
              "      <td>0.165695</td>\n",
              "      <td>0.865440</td>\n",
              "      <td>0.837302</td>\n",
              "      <td>0.753399</td>\n",
              "      <td>0.329532</td>\n",
              "    </tr>\n",
              "    <tr>\n",
              "      <th>mean_AR</th>\n",
              "      <td>-0.033657</td>\n",
              "      <td>0.165695</td>\n",
              "      <td>1.000000</td>\n",
              "      <td>0.199026</td>\n",
              "      <td>0.020613</td>\n",
              "      <td>-0.022233</td>\n",
              "      <td>-0.157839</td>\n",
              "    </tr>\n",
              "    <tr>\n",
              "      <th>mean_bed</th>\n",
              "      <td>0.541334</td>\n",
              "      <td>0.865440</td>\n",
              "      <td>0.199026</td>\n",
              "      <td>1.000000</td>\n",
              "      <td>0.737909</td>\n",
              "      <td>0.574149</td>\n",
              "      <td>0.261477</td>\n",
              "    </tr>\n",
              "    <tr>\n",
              "      <th>mean_Bath</th>\n",
              "      <td>0.702363</td>\n",
              "      <td>0.837302</td>\n",
              "      <td>0.020613</td>\n",
              "      <td>0.737909</td>\n",
              "      <td>1.000000</td>\n",
              "      <td>0.725461</td>\n",
              "      <td>0.366747</td>\n",
              "    </tr>\n",
              "    <tr>\n",
              "      <th>mean_Price</th>\n",
              "      <td>0.943422</td>\n",
              "      <td>0.753399</td>\n",
              "      <td>-0.022233</td>\n",
              "      <td>0.574149</td>\n",
              "      <td>0.725461</td>\n",
              "      <td>1.000000</td>\n",
              "      <td>0.328206</td>\n",
              "    </tr>\n",
              "    <tr>\n",
              "      <th>mean_school</th>\n",
              "      <td>0.271549</td>\n",
              "      <td>0.329532</td>\n",
              "      <td>-0.157839</td>\n",
              "      <td>0.261477</td>\n",
              "      <td>0.366747</td>\n",
              "      <td>0.328206</td>\n",
              "      <td>1.000000</td>\n",
              "    </tr>\n",
              "  </tbody>\n",
              "</table>\n",
              "</div>\n",
              "      <button class=\"colab-df-convert\" onclick=\"convertToInteractive('df-63746591-2917-4c3d-9b71-3a21acb88365')\"\n",
              "              title=\"Convert this dataframe to an interactive table.\"\n",
              "              style=\"display:none;\">\n",
              "        \n",
              "  <svg xmlns=\"http://www.w3.org/2000/svg\" height=\"24px\"viewBox=\"0 0 24 24\"\n",
              "       width=\"24px\">\n",
              "    <path d=\"M0 0h24v24H0V0z\" fill=\"none\"/>\n",
              "    <path d=\"M18.56 5.44l.94 2.06.94-2.06 2.06-.94-2.06-.94-.94-2.06-.94 2.06-2.06.94zm-11 1L8.5 8.5l.94-2.06 2.06-.94-2.06-.94L8.5 2.5l-.94 2.06-2.06.94zm10 10l.94 2.06.94-2.06 2.06-.94-2.06-.94-.94-2.06-.94 2.06-2.06.94z\"/><path d=\"M17.41 7.96l-1.37-1.37c-.4-.4-.92-.59-1.43-.59-.52 0-1.04.2-1.43.59L10.3 9.45l-7.72 7.72c-.78.78-.78 2.05 0 2.83L4 21.41c.39.39.9.59 1.41.59.51 0 1.02-.2 1.41-.59l7.78-7.78 2.81-2.81c.8-.78.8-2.07 0-2.86zM5.41 20L4 18.59l7.72-7.72 1.47 1.35L5.41 20z\"/>\n",
              "  </svg>\n",
              "      </button>\n",
              "      \n",
              "  <style>\n",
              "    .colab-df-container {\n",
              "      display:flex;\n",
              "      flex-wrap:wrap;\n",
              "      gap: 12px;\n",
              "    }\n",
              "\n",
              "    .colab-df-convert {\n",
              "      background-color: #E8F0FE;\n",
              "      border: none;\n",
              "      border-radius: 50%;\n",
              "      cursor: pointer;\n",
              "      display: none;\n",
              "      fill: #1967D2;\n",
              "      height: 32px;\n",
              "      padding: 0 0 0 0;\n",
              "      width: 32px;\n",
              "    }\n",
              "\n",
              "    .colab-df-convert:hover {\n",
              "      background-color: #E2EBFA;\n",
              "      box-shadow: 0px 1px 2px rgba(60, 64, 67, 0.3), 0px 1px 3px 1px rgba(60, 64, 67, 0.15);\n",
              "      fill: #174EA6;\n",
              "    }\n",
              "\n",
              "    [theme=dark] .colab-df-convert {\n",
              "      background-color: #3B4455;\n",
              "      fill: #D2E3FC;\n",
              "    }\n",
              "\n",
              "    [theme=dark] .colab-df-convert:hover {\n",
              "      background-color: #434B5C;\n",
              "      box-shadow: 0px 1px 3px 1px rgba(0, 0, 0, 0.15);\n",
              "      filter: drop-shadow(0px 1px 2px rgba(0, 0, 0, 0.3));\n",
              "      fill: #FFFFFF;\n",
              "    }\n",
              "  </style>\n",
              "\n",
              "      <script>\n",
              "        const buttonEl =\n",
              "          document.querySelector('#df-63746591-2917-4c3d-9b71-3a21acb88365 button.colab-df-convert');\n",
              "        buttonEl.style.display =\n",
              "          google.colab.kernel.accessAllowed ? 'block' : 'none';\n",
              "\n",
              "        async function convertToInteractive(key) {\n",
              "          const element = document.querySelector('#df-63746591-2917-4c3d-9b71-3a21acb88365');\n",
              "          const dataTable =\n",
              "            await google.colab.kernel.invokeFunction('convertToInteractive',\n",
              "                                                     [key], {});\n",
              "          if (!dataTable) return;\n",
              "\n",
              "          const docLinkHtml = 'Like what you see? Visit the ' +\n",
              "            '<a target=\"_blank\" href=https://colab.research.google.com/notebooks/data_table.ipynb>data table notebook</a>'\n",
              "            + ' to learn more about interactive tables.';\n",
              "          element.innerHTML = '';\n",
              "          dataTable['output_type'] = 'display_data';\n",
              "          await google.colab.output.renderOutput(dataTable, element);\n",
              "          const docLink = document.createElement('div');\n",
              "          docLink.innerHTML = docLinkHtml;\n",
              "          element.appendChild(docLink);\n",
              "        }\n",
              "      </script>\n",
              "    </div>\n",
              "  </div>\n",
              "  "
            ]
          },
          "metadata": {},
          "execution_count": 10
        }
      ]
    },
    {
      "cell_type": "code",
      "source": [
        "plt.figure(figsize=(15,10))\n",
        "sns.heatmap(cor, annot=True)"
      ],
      "metadata": {
        "colab": {
          "base_uri": "https://localhost:8080/",
          "height": 613
        },
        "id": "qDo19soe86Ge",
        "outputId": "7d695ae4-256c-453c-ed16-0c4eb43cfc76"
      },
      "execution_count": 13,
      "outputs": [
        {
          "output_type": "execute_result",
          "data": {
            "text/plain": [
              "<matplotlib.axes._subplots.AxesSubplot at 0x7fe569f1e350>"
            ]
          },
          "metadata": {},
          "execution_count": 13
        },
        {
          "output_type": "display_data",
          "data": {
            "text/plain": [
              "<Figure size 1080x720 with 2 Axes>"
            ],
            "image/png": "[encoded data removed]"
          },
          "metadata": {
            "needs_background": "light"
          }
        }
      ]
    },
    {
      "cell_type": "code",
      "source": [
        "threshold= 0.1\n",
        "a = abs(cor['mean_Price'])\n",
        "result = a[a>threshold]\n",
        "result"
      ],
      "metadata": {
        "colab": {
          "base_uri": "https://localhost:8080/"
        },
        "id": "5licZoJ9-zPI",
        "outputId": "e75bd0d1-3611-49c5-e6fd-ab04da9fc94e"
      },
      "execution_count": 17,
      "outputs": [
        {
          "output_type": "execute_result",
          "data": {
            "text/plain": [
              "mean_CV        0.943422\n",
              "mean_FA        0.753399\n",
              "mean_bed       0.574149\n",
              "mean_Bath      0.725461\n",
              "mean_Price     1.000000\n",
              "mean_school    0.328206\n",
              "Name: mean_Price, dtype: float64"
            ]
          },
          "metadata": {},
          "execution_count": 17
        }
      ]
    },
    {
      "cell_type": "code",
      "source": [
        "df2 = df1[[c for c in df.columns if c in result]]\n",
        "df2"
      ],
      "metadata": {
        "colab": {
          "base_uri": "https://localhost:8080/",
          "height": 424
        },
        "id": "k6BghFGm_cft",
        "outputId": "62006edc-336c-45eb-919c-c7ffb185dec7"
      },
      "execution_count": 18,
      "outputs": [
        {
          "output_type": "execute_result",
          "data": {
            "text/plain": [
              "          mean_CV  mean_FA  mean_bed  mean_Bath  mean_Price  mean_school\n",
              "0        217000.0     87.0       2.0        1.0   12.577041          0.0\n",
              "1        217000.0     87.0       2.0        1.0   12.577041          0.0\n",
              "2        217000.0     87.0       2.0        1.0   12.577041          0.0\n",
              "3        217000.0     87.0       2.0        1.0   12.577041          0.0\n",
              "4        217000.0     87.0       2.0        1.0   12.577041          0.0\n",
              "...           ...      ...       ...        ...         ...          ...\n",
              "1044917  301000.0    154.0       4.0        1.0   12.736701          3.0\n",
              "1044918  192500.0    180.0       4.0        1.0   12.463681          2.0\n",
              "1044919  192500.0    180.0       4.0        1.0   12.463681          2.0\n",
              "1044920  192500.0    180.0       4.0        1.0   12.463681          2.0\n",
              "1044921  192500.0    180.0       4.0        1.0   12.463681          2.0\n",
              "\n",
              "[1044922 rows x 6 columns]"
            ],
            "text/html": [
              "\n",
              "  <div id=\"df-c438a0be-5c74-45db-845e-afcf24563f7d\">\n",
              "    <div class=\"colab-df-container\">\n",
              "      <div>\n",
              "<style scoped>\n",
              "    .dataframe tbody tr th:only-of-type {\n",
              "        vertical-align: middle;\n",
              "    }\n",
              "\n",
              "    .dataframe tbody tr th {\n",
              "        vertical-align: top;\n",
              "    }\n",
              "\n",
              "    .dataframe thead th {\n",
              "        text-align: right;\n",
              "    }\n",
              "</style>\n",
              "<table border=\"1\" class=\"dataframe\">\n",
              "  <thead>\n",
              "    <tr style=\"text-align: right;\">\n",
              "      <th></th>\n",
              "      <th>mean_CV</th>\n",
              "      <th>mean_FA</th>\n",
              "      <th>mean_bed</th>\n",
              "      <th>mean_Bath</th>\n",
              "      <th>mean_Price</th>\n",
              "      <th>mean_school</th>\n",
              "    </tr>\n",
              "  </thead>\n",
              "  <tbody>\n",
              "    <tr>\n",
              "      <th>0</th>\n",
              "      <td>217000.0</td>\n",
              "      <td>87.0</td>\n",
              "      <td>2.0</td>\n",
              "      <td>1.0</td>\n",
              "      <td>12.577041</td>\n",
              "      <td>0.0</td>\n",
              "    </tr>\n",
              "    <tr>\n",
              "      <th>1</th>\n",
              "      <td>217000.0</td>\n",
              "      <td>87.0</td>\n",
              "      <td>2.0</td>\n",
              "      <td>1.0</td>\n",
              "      <td>12.577041</td>\n",
              "      <td>0.0</td>\n",
              "    </tr>\n",
              "    <tr>\n",
              "      <th>2</th>\n",
              "      <td>217000.0</td>\n",
              "      <td>87.0</td>\n",
              "      <td>2.0</td>\n",
              "      <td>1.0</td>\n",
              "      <td>12.577041</td>\n",
              "      <td>0.0</td>\n",
              "    </tr>\n",
              "    <tr>\n",
              "      <th>3</th>\n",
              "      <td>217000.0</td>\n",
              "      <td>87.0</td>\n",
              "      <td>2.0</td>\n",
              "      <td>1.0</td>\n",
              "      <td>12.577041</td>\n",
              "      <td>0.0</td>\n",
              "    </tr>\n",
              "    <tr>\n",
              "      <th>4</th>\n",
              "      <td>217000.0</td>\n",
              "      <td>87.0</td>\n",
              "      <td>2.0</td>\n",
              "      <td>1.0</td>\n",
              "      <td>12.577041</td>\n",
              "      <td>0.0</td>\n",
              "    </tr>\n",
              "    <tr>\n",
              "      <th>...</th>\n",
              "      <td>...</td>\n",
              "      <td>...</td>\n",
              "      <td>...</td>\n",
              "      <td>...</td>\n",
              "      <td>...</td>\n",
              "      <td>...</td>\n",
              "    </tr>\n",
              "    <tr>\n",
              "      <th>1044917</th>\n",
              "      <td>301000.0</td>\n",
              "      <td>154.0</td>\n",
              "      <td>4.0</td>\n",
              "      <td>1.0</td>\n",
              "      <td>12.736701</td>\n",
              "      <td>3.0</td>\n",
              "    </tr>\n",
              "    <tr>\n",
              "      <th>1044918</th>\n",
              "      <td>192500.0</td>\n",
              "      <td>180.0</td>\n",
              "      <td>4.0</td>\n",
              "      <td>1.0</td>\n",
              "      <td>12.463681</td>\n",
              "      <td>2.0</td>\n",
              "    </tr>\n",
              "    <tr>\n",
              "      <th>1044919</th>\n",
              "      <td>192500.0</td>\n",
              "      <td>180.0</td>\n",
              "      <td>4.0</td>\n",
              "      <td>1.0</td>\n",
              "      <td>12.463681</td>\n",
              "      <td>2.0</td>\n",
              "    </tr>\n",
              "    <tr>\n",
              "      <th>1044920</th>\n",
              "      <td>192500.0</td>\n",
              "      <td>180.0</td>\n",
              "      <td>4.0</td>\n",
              "      <td>1.0</td>\n",
              "      <td>12.463681</td>\n",
              "      <td>2.0</td>\n",
              "    </tr>\n",
              "    <tr>\n",
              "      <th>1044921</th>\n",
              "      <td>192500.0</td>\n",
              "      <td>180.0</td>\n",
              "      <td>4.0</td>\n",
              "      <td>1.0</td>\n",
              "      <td>12.463681</td>\n",
              "      <td>2.0</td>\n",
              "    </tr>\n",
              "  </tbody>\n",
              "</table>\n",
              "<p>1044922 rows × 6 columns</p>\n",
              "</div>\n",
              "      <button class=\"colab-df-convert\" onclick=\"convertToInteractive('df-c438a0be-5c74-45db-845e-afcf24563f7d')\"\n",
              "              title=\"Convert this dataframe to an interactive table.\"\n",
              "              style=\"display:none;\">\n",
              "        \n",
              "  <svg xmlns=\"http://www.w3.org/2000/svg\" height=\"24px\"viewBox=\"0 0 24 24\"\n",
              "       width=\"24px\">\n",
              "    <path d=\"M0 0h24v24H0V0z\" fill=\"none\"/>\n",
              "    <path d=\"M18.56 5.44l.94 2.06.94-2.06 2.06-.94-2.06-.94-.94-2.06-.94 2.06-2.06.94zm-11 1L8.5 8.5l.94-2.06 2.06-.94-2.06-.94L8.5 2.5l-.94 2.06-2.06.94zm10 10l.94 2.06.94-2.06 2.06-.94-2.06-.94-.94-2.06-.94 2.06-2.06.94z\"/><path d=\"M17.41 7.96l-1.37-1.37c-.4-.4-.92-.59-1.43-.59-.52 0-1.04.2-1.43.59L10.3 9.45l-7.72 7.72c-.78.78-.78 2.05 0 2.83L4 21.41c.39.39.9.59 1.41.59.51 0 1.02-.2 1.41-.59l7.78-7.78 2.81-2.81c.8-.78.8-2.07 0-2.86zM5.41 20L4 18.59l7.72-7.72 1.47 1.35L5.41 20z\"/>\n",
              "  </svg>\n",
              "      </button>\n",
              "      \n",
              "  <style>\n",
              "    .colab-df-container {\n",
              "      display:flex;\n",
              "      flex-wrap:wrap;\n",
              "      gap: 12px;\n",
              "    }\n",
              "\n",
              "    .colab-df-convert {\n",
              "      background-color: #E8F0FE;\n",
              "      border: none;\n",
              "      border-radius: 50%;\n",
              "      cursor: pointer;\n",
              "      display: none;\n",
              "      fill: #1967D2;\n",
              "      height: 32px;\n",
              "      padding: 0 0 0 0;\n",
              "      width: 32px;\n",
              "    }\n",
              "\n",
              "    .colab-df-convert:hover {\n",
              "      background-color: #E2EBFA;\n",
              "      box-shadow: 0px 1px 2px rgba(60, 64, 67, 0.3), 0px 1px 3px 1px rgba(60, 64, 67, 0.15);\n",
              "      fill: #174EA6;\n",
              "    }\n",
              "\n",
              "    [theme=dark] .colab-df-convert {\n",
              "      background-color: #3B4455;\n",
              "      fill: #D2E3FC;\n",
              "    }\n",
              "\n",
              "    [theme=dark] .colab-df-convert:hover {\n",
              "      background-color: #434B5C;\n",
              "      box-shadow: 0px 1px 3px 1px rgba(0, 0, 0, 0.15);\n",
              "      filter: drop-shadow(0px 1px 2px rgba(0, 0, 0, 0.3));\n",
              "      fill: #FFFFFF;\n",
              "    }\n",
              "  </style>\n",
              "\n",
              "      <script>\n",
              "        const buttonEl =\n",
              "          document.querySelector('#df-c438a0be-5c74-45db-845e-afcf24563f7d button.colab-df-convert');\n",
              "        buttonEl.style.display =\n",
              "          google.colab.kernel.accessAllowed ? 'block' : 'none';\n",
              "\n",
              "        async function convertToInteractive(key) {\n",
              "          const element = document.querySelector('#df-c438a0be-5c74-45db-845e-afcf24563f7d');\n",
              "          const dataTable =\n",
              "            await google.colab.kernel.invokeFunction('convertToInteractive',\n",
              "                                                     [key], {});\n",
              "          if (!dataTable) return;\n",
              "\n",
              "          const docLinkHtml = 'Like what you see? Visit the ' +\n",
              "            '<a target=\"_blank\" href=https://colab.research.google.com/notebooks/data_table.ipynb>data table notebook</a>'\n",
              "            + ' to learn more about interactive tables.';\n",
              "          element.innerHTML = '';\n",
              "          dataTable['output_type'] = 'display_data';\n",
              "          await google.colab.output.renderOutput(dataTable, element);\n",
              "          const docLink = document.createElement('div');\n",
              "          docLink.innerHTML = docLinkHtml;\n",
              "          element.appendChild(docLink);\n",
              "        }\n",
              "      </script>\n",
              "    </div>\n",
              "  </div>\n",
              "  "
            ]
          },
          "metadata": {},
          "execution_count": 18
        }
      ]
    },
    {
      "cell_type": "code",
      "source": [
        "g = sns.pairplot(df2,height=1.5)"
      ],
      "metadata": {
        "colab": {
          "base_uri": "https://localhost:8080/",
          "height": 656
        },
        "id": "RJdkhIzrPils",
        "outputId": "20760aa3-cc0b-48dc-9928-1c1b03fcce3a"
      },
      "execution_count": 20,
      "outputs": [
        {
          "output_type": "display_data",
          "data": {
            "text/plain": [
              "<Figure size 648x648 with 42 Axes>"
            ],
            "image/png": "[encoded data removed]"
          },
          "metadata": {
            "needs_background": "light"
          }
        }
      ]
    },
    {
      "cell_type": "code",
      "source": [
        "df2.info()"
      ],
      "metadata": {
        "colab": {
          "base_uri": "https://localhost:8080/"
        },
        "id": "hqxnQldG_myD",
        "outputId": "8e2a66ae-dbd9-42ed-8164-10c25120d3c5"
      },
      "execution_count": null,
      "outputs": [
        {
          "output_type": "stream",
          "name": "stdout",
          "text": [
            "<class 'pandas.core.frame.DataFrame'>\n",
            "RangeIndex: 1044922 entries, 0 to 1044921\n",
            "Data columns (total 6 columns):\n",
            " #   Column       Non-Null Count    Dtype  \n",
            "---  ------       --------------    -----  \n",
            " 0   mean_CV      1044922 non-null  float64\n",
            " 1   mean_FA      1044922 non-null  float64\n",
            " 2   mean_bed     1044922 non-null  float64\n",
            " 3   mean_Bath    1044922 non-null  float64\n",
            " 4   mean_Price   1044922 non-null  float64\n",
            " 5   mean_school  1044922 non-null  float64\n",
            "dtypes: float64(6)\n",
            "memory usage: 47.8 MB\n"
          ]
        }
      ]
    },
    {
      "cell_type": "code",
      "source": [
        "plt.figure(figsize=(15,10))\n",
        "sns.heatmap(df2.corr(),annot=True)"
      ],
      "metadata": {
        "colab": {
          "base_uri": "https://localhost:8080/",
          "height": 613
        },
        "id": "RijDgSzpMa7w",
        "outputId": "c86a9d89-e2fc-4ab2-c31c-6deb1720833c"
      },
      "execution_count": null,
      "outputs": [
        {
          "output_type": "execute_result",
          "data": {
            "text/plain": [
              "<matplotlib.axes._subplots.AxesSubplot at 0x7f0d43cc0d50>"
            ]
          },
          "metadata": {},
          "execution_count": 31
        },
        {
          "output_type": "display_data",
          "data": {
            "text/plain": [
              "<Figure size 1080x720 with 2 Axes>"
            ],
            "image/png": "[encoded data removed]"
          },
          "metadata": {
            "needs_background": "light"
          }
        }
      ]
    },
    {
      "cell_type": "code",
      "source": [
        "df2.info()"
      ],
      "metadata": {
        "colab": {
          "base_uri": "https://localhost:8080/"
        },
        "id": "WGLPHftDO9KH",
        "outputId": "fd003229-ac8b-44d0-f94f-62fc33f6b182"
      },
      "execution_count": null,
      "outputs": [
        {
          "output_type": "stream",
          "name": "stdout",
          "text": [
            "<class 'pandas.core.frame.DataFrame'>\n",
            "RangeIndex: 1044922 entries, 0 to 1044921\n",
            "Data columns (total 6 columns):\n",
            " #   Column       Non-Null Count    Dtype  \n",
            "---  ------       --------------    -----  \n",
            " 0   mean_CV      1044922 non-null  float64\n",
            " 1   mean_FA      1044922 non-null  float64\n",
            " 2   mean_bed     1044922 non-null  float64\n",
            " 3   mean_Bath    1044922 non-null  float64\n",
            " 4   mean_Price   1044922 non-null  float64\n",
            " 5   mean_school  1044922 non-null  float64\n",
            "dtypes: float64(6)\n",
            "memory usage: 47.8 MB\n"
          ]
        }
      ]
    },
    {
      "cell_type": "code",
      "source": [
        "df2.head()"
      ],
      "metadata": {
        "colab": {
          "base_uri": "https://localhost:8080/",
          "height": 206
        },
        "id": "vuVFgH-JkJOU",
        "outputId": "89234658-2d54-4ddd-ae87-76b154601488"
      },
      "execution_count": null,
      "outputs": [
        {
          "output_type": "execute_result",
          "data": {
            "text/plain": [
              "    mean_CV  mean_FA  mean_bed  mean_Bath  mean_Price  mean_school\n",
              "0  217000.0     87.0       2.0        1.0   12.577041          0.0\n",
              "1  217000.0     87.0       2.0        1.0   12.577041          0.0\n",
              "2  217000.0     87.0       2.0        1.0   12.577041          0.0\n",
              "3  217000.0     87.0       2.0        1.0   12.577041          0.0\n",
              "4  217000.0     87.0       2.0        1.0   12.577041          0.0"
            ],
            "text/html": [
              "\n",
              "  <div id=\"df-0d60f67d-ebdc-49b6-8f20-3bbcad05f738\">\n",
              "    <div class=\"colab-df-container\">\n",
              "      <div>\n",
              "<style scoped>\n",
              "    .dataframe tbody tr th:only-of-type {\n",
              "        vertical-align: middle;\n",
              "    }\n",
              "\n",
              "    .dataframe tbody tr th {\n",
              "        vertical-align: top;\n",
              "    }\n",
              "\n",
              "    .dataframe thead th {\n",
              "        text-align: right;\n",
              "    }\n",
              "</style>\n",
              "<table border=\"1\" class=\"dataframe\">\n",
              "  <thead>\n",
              "    <tr style=\"text-align: right;\">\n",
              "      <th></th>\n",
              "      <th>mean_CV</th>\n",
              "      <th>mean_FA</th>\n",
              "      <th>mean_bed</th>\n",
              "      <th>mean_Bath</th>\n",
              "      <th>mean_Price</th>\n",
              "      <th>mean_school</th>\n",
              "    </tr>\n",
              "  </thead>\n",
              "  <tbody>\n",
              "    <tr>\n",
              "      <th>0</th>\n",
              "      <td>217000.0</td>\n",
              "      <td>87.0</td>\n",
              "      <td>2.0</td>\n",
              "      <td>1.0</td>\n",
              "      <td>12.577041</td>\n",
              "      <td>0.0</td>\n",
              "    </tr>\n",
              "    <tr>\n",
              "      <th>1</th>\n",
              "      <td>217000.0</td>\n",
              "      <td>87.0</td>\n",
              "      <td>2.0</td>\n",
              "      <td>1.0</td>\n",
              "      <td>12.577041</td>\n",
              "      <td>0.0</td>\n",
              "    </tr>\n",
              "    <tr>\n",
              "      <th>2</th>\n",
              "      <td>217000.0</td>\n",
              "      <td>87.0</td>\n",
              "      <td>2.0</td>\n",
              "      <td>1.0</td>\n",
              "      <td>12.577041</td>\n",
              "      <td>0.0</td>\n",
              "    </tr>\n",
              "    <tr>\n",
              "      <th>3</th>\n",
              "      <td>217000.0</td>\n",
              "      <td>87.0</td>\n",
              "      <td>2.0</td>\n",
              "      <td>1.0</td>\n",
              "      <td>12.577041</td>\n",
              "      <td>0.0</td>\n",
              "    </tr>\n",
              "    <tr>\n",
              "      <th>4</th>\n",
              "      <td>217000.0</td>\n",
              "      <td>87.0</td>\n",
              "      <td>2.0</td>\n",
              "      <td>1.0</td>\n",
              "      <td>12.577041</td>\n",
              "      <td>0.0</td>\n",
              "    </tr>\n",
              "  </tbody>\n",
              "</table>\n",
              "</div>\n",
              "      <button class=\"colab-df-convert\" onclick=\"convertToInteractive('df-0d60f67d-ebdc-49b6-8f20-3bbcad05f738')\"\n",
              "              title=\"Convert this dataframe to an interactive table.\"\n",
              "              style=\"display:none;\">\n",
              "        \n",
              "  <svg xmlns=\"http://www.w3.org/2000/svg\" height=\"24px\"viewBox=\"0 0 24 24\"\n",
              "       width=\"24px\">\n",
              "    <path d=\"M0 0h24v24H0V0z\" fill=\"none\"/>\n",
              "    <path d=\"M18.56 5.44l.94 2.06.94-2.06 2.06-.94-2.06-.94-.94-2.06-.94 2.06-2.06.94zm-11 1L8.5 8.5l.94-2.06 2.06-.94-2.06-.94L8.5 2.5l-.94 2.06-2.06.94zm10 10l.94 2.06.94-2.06 2.06-.94-2.06-.94-.94-2.06-.94 2.06-2.06.94z\"/><path d=\"M17.41 7.96l-1.37-1.37c-.4-.4-.92-.59-1.43-.59-.52 0-1.04.2-1.43.59L10.3 9.45l-7.72 7.72c-.78.78-.78 2.05 0 2.83L4 21.41c.39.39.9.59 1.41.59.51 0 1.02-.2 1.41-.59l7.78-7.78 2.81-2.81c.8-.78.8-2.07 0-2.86zM5.41 20L4 18.59l7.72-7.72 1.47 1.35L5.41 20z\"/>\n",
              "  </svg>\n",
              "      </button>\n",
              "      \n",
              "  <style>\n",
              "    .colab-df-container {\n",
              "      display:flex;\n",
              "      flex-wrap:wrap;\n",
              "      gap: 12px;\n",
              "    }\n",
              "\n",
              "    .colab-df-convert {\n",
              "      background-color: #E8F0FE;\n",
              "      border: none;\n",
              "      border-radius: 50%;\n",
              "      cursor: pointer;\n",
              "      display: none;\n",
              "      fill: #1967D2;\n",
              "      height: 32px;\n",
              "      padding: 0 0 0 0;\n",
              "      width: 32px;\n",
              "    }\n",
              "\n",
              "    .colab-df-convert:hover {\n",
              "      background-color: #E2EBFA;\n",
              "      box-shadow: 0px 1px 2px rgba(60, 64, 67, 0.3), 0px 1px 3px 1px rgba(60, 64, 67, 0.15);\n",
              "      fill: #174EA6;\n",
              "    }\n",
              "\n",
              "    [theme=dark] .colab-df-convert {\n",
              "      background-color: #3B4455;\n",
              "      fill: #D2E3FC;\n",
              "    }\n",
              "\n",
              "    [theme=dark] .colab-df-convert:hover {\n",
              "      background-color: #434B5C;\n",
              "      box-shadow: 0px 1px 3px 1px rgba(0, 0, 0, 0.15);\n",
              "      filter: drop-shadow(0px 1px 2px rgba(0, 0, 0, 0.3));\n",
              "      fill: #FFFFFF;\n",
              "    }\n",
              "  </style>\n",
              "\n",
              "      <script>\n",
              "        const buttonEl =\n",
              "          document.querySelector('#df-0d60f67d-ebdc-49b6-8f20-3bbcad05f738 button.colab-df-convert');\n",
              "        buttonEl.style.display =\n",
              "          google.colab.kernel.accessAllowed ? 'block' : 'none';\n",
              "\n",
              "        async function convertToInteractive(key) {\n",
              "          const element = document.querySelector('#df-0d60f67d-ebdc-49b6-8f20-3bbcad05f738');\n",
              "          const dataTable =\n",
              "            await google.colab.kernel.invokeFunction('convertToInteractive',\n",
              "                                                     [key], {});\n",
              "          if (!dataTable) return;\n",
              "\n",
              "          const docLinkHtml = 'Like what you see? Visit the ' +\n",
              "            '<a target=\"_blank\" href=https://colab.research.google.com/notebooks/data_table.ipynb>data table notebook</a>'\n",
              "            + ' to learn more about interactive tables.';\n",
              "          element.innerHTML = '';\n",
              "          dataTable['output_type'] = 'display_data';\n",
              "          await google.colab.output.renderOutput(dataTable, element);\n",
              "          const docLink = document.createElement('div');\n",
              "          docLink.innerHTML = docLinkHtml;\n",
              "          element.appendChild(docLink);\n",
              "        }\n",
              "      </script>\n",
              "    </div>\n",
              "  </div>\n",
              "  "
            ]
          },
          "metadata": {},
          "execution_count": 33
        }
      ]
    },
    {
      "cell_type": "code",
      "source": [
        "df2.shape"
      ],
      "metadata": {
        "colab": {
          "base_uri": "https://localhost:8080/"
        },
        "id": "RxOlTQAeorma",
        "outputId": "a6bf7b6d-72b1-4c85-e453-cae5d9896657"
      },
      "execution_count": null,
      "outputs": [
        {
          "output_type": "execute_result",
          "data": {
            "text/plain": [
              "(1044922, 6)"
            ]
          },
          "metadata": {},
          "execution_count": 34
        }
      ]
    },
    {
      "cell_type": "code",
      "source": [
        " #Building our model using different regression models\n",
        " # X(Independent variables) and y(target variables) \n",
        "X = df2.drop(['mean_Price'], axis=1)\n",
        "Y = df2['mean_Price']"
      ],
      "metadata": {
        "id": "ukQYS6MDNLFg"
      },
      "execution_count": null,
      "outputs": []
    },
    {
      "cell_type": "code",
      "source": [
        "print(X.shape, Y.shape)"
      ],
      "metadata": {
        "colab": {
          "base_uri": "https://localhost:8080/"
        },
        "id": "cpxuqIvMF-qG",
        "outputId": "f1f839dd-6e8e-4a62-ebda-c4c6a97a1429"
      },
      "execution_count": null,
      "outputs": [
        {
          "output_type": "stream",
          "name": "stdout",
          "text": [
            "(1044922, 5) (1044922,)\n"
          ]
        }
      ]
    },
    {
      "cell_type": "code",
      "source": [
        "# Split the training set into\n",
        "# training and validation set\n",
        "X_train, X_valid, Y_train, Y_valid = train_test_split(\n",
        "    X, Y, train_size=0.8, test_size=0.2, random_state=0)"
      ],
      "metadata": {
        "id": "nqsqPSRdF7w8"
      },
      "execution_count": null,
      "outputs": []
    },
    {
      "cell_type": "code",
      "source": [
        "print(X_train.shape, X_valid.shape)"
      ],
      "metadata": {
        "colab": {
          "base_uri": "https://localhost:8080/"
        },
        "id": "JKO4JjAAGDfX",
        "outputId": "ef49c0ce-073f-4b92-ef87-79d737fad23d"
      },
      "execution_count": null,
      "outputs": [
        {
          "output_type": "stream",
          "name": "stdout",
          "text": [
            "(835937, 5) (208985, 5)\n"
          ]
        }
      ]
    },
    {
      "cell_type": "code",
      "source": [
        "pd.value_counts(Y_train)"
      ],
      "metadata": {
        "colab": {
          "base_uri": "https://localhost:8080/"
        },
        "id": "lMlmfLQbGIxO",
        "outputId": "e0b5504b-c327-430c-d35e-60e099999700"
      },
      "execution_count": null,
      "outputs": [
        {
          "output_type": "execute_result",
          "data": {
            "text/plain": [
              "13.859527    36999\n",
              "13.429848    16973\n",
              "13.654753    16298\n",
              "13.773646    13804\n",
              "13.976779    10395\n",
              "             ...  \n",
              "13.919968        1\n",
              "13.182831        1\n",
              "14.384228        1\n",
              "14.096923        1\n",
              "13.107250        1\n",
              "Name: mean_Price, Length: 4010, dtype: int64"
            ]
          },
          "metadata": {},
          "execution_count": 41
        }
      ]
    },
    {
      "cell_type": "code",
      "source": [
        "#Random Forest Regression Model\n",
        "rf_regressor = RandomForestRegressor(n_estimators=28,random_state=0)\n",
        "rf_regressor.fit(X_train,Y_train)\n",
        "rf_regressor.score(X_valid,Y_valid)\n",
        "rf_pred =rf_regressor.predict(X_valid)\n",
        "rf_score=rf_regressor.score(X_valid,Y_valid)\n",
        "expl_rf = explained_variance_score(rf_pred,Y_valid)"
      ],
      "metadata": {
        "id": "1s1L9TP1mm28"
      },
      "execution_count": null,
      "outputs": []
    },
    {
      "cell_type": "code",
      "source": [
        "rf_RMSE = np.sqrt(mean_squared_error(Y_valid, rf_pred))"
      ],
      "metadata": {
        "id": "hLzEGh3srL-v"
      },
      "execution_count": null,
      "outputs": []
    },
    {
      "cell_type": "code",
      "source": [
        "print(\"Random Forest Regression Model Score is \",round(rf_regressor.score(X_valid,Y_valid)*100))"
      ],
      "metadata": {
        "colab": {
          "base_uri": "https://localhost:8080/"
        },
        "id": "eGrXY-TluGew",
        "outputId": "b32c3a56-59ed-4fbd-c0d8-dc2e009f6f67"
      },
      "execution_count": null,
      "outputs": [
        {
          "output_type": "stream",
          "name": "stdout",
          "text": [
            "Random Forest Regression Model Score is  100\n"
          ]
        }
      ]
    },
    {
      "cell_type": "code",
      "source": [
        "#Decision Tree Regression Model\n",
        "tr_regressor = DecisionTreeRegressor(random_state=0)\n",
        "tr_regressor.fit(X_train,Y_train)\n",
        "tr_regressor.score(X_valid,Y_valid)\n",
        "pred_tr = tr_regressor.predict(X_valid)\n",
        "decision_score=tr_regressor.score(X_valid,Y_valid)\n",
        "expl_tr = explained_variance_score(pred_tr,Y_valid)"
      ],
      "metadata": {
        "id": "I_l_sgZJyoSZ"
      },
      "execution_count": null,
      "outputs": []
    },
    {
      "cell_type": "code",
      "source": [
        "tr_RMSE = np.sqrt(mean_squared_error(Y_valid, pred_tr))"
      ],
      "metadata": {
        "id": "4spFlZXhrqj9"
      },
      "execution_count": null,
      "outputs": []
    },
    {
      "cell_type": "code",
      "source": [
        "print(\"Decision tree  Regression Model Score is \",round(tr_regressor.score(X_valid,Y_valid)*100))"
      ],
      "metadata": {
        "colab": {
          "base_uri": "https://localhost:8080/"
        },
        "id": "eVGHgNCvzhle",
        "outputId": "f56d6955-baf2-4f92-f59e-f0bebec4f783"
      },
      "execution_count": null,
      "outputs": [
        {
          "output_type": "stream",
          "name": "stdout",
          "text": [
            "Decision tree  Regression Model Score is  100\n"
          ]
        }
      ]
    },
    {
      "cell_type": "code",
      "source": [
        "#Multiple Linear Regression Model\n",
        "from sklearn.linear_model import LinearRegression\n",
        "\n",
        "mlr = LinearRegression()\n",
        "mlr.fit(X_train,Y_train)\n",
        "mlr_score = mlr.score(X_valid,Y_valid)\n",
        "pred_mlr = mlr.predict(X_valid)\n",
        "expl_mlr = explained_variance_score(pred_mlr,Y_valid)"
      ],
      "metadata": {
        "id": "jmsHRPPrzraQ"
      },
      "execution_count": null,
      "outputs": []
    },
    {
      "cell_type": "code",
      "source": [
        "mlr_RMSE = np.sqrt(mean_squared_error(Y_valid, pred_mlr))"
      ],
      "metadata": {
        "id": "JGvUNWLGr5Gf"
      },
      "execution_count": null,
      "outputs": []
    },
    {
      "cell_type": "code",
      "source": [
        "print(\"Multiple Linear Regression Model Score is \",round(mlr.score(X_valid,Y_valid)*100))"
      ],
      "metadata": {
        "colab": {
          "base_uri": "https://localhost:8080/"
        },
        "id": "13KN_-yn1lRv",
        "outputId": "7e0048c5-cbd8-42a2-ecde-65b3ef31ada1"
      },
      "execution_count": null,
      "outputs": [
        {
          "output_type": "stream",
          "name": "stdout",
          "text": [
            "Multiple Linear Regression Model Score is  90\n"
          ]
        }
      ]
    },
    {
      "cell_type": "code",
      "source": [
        "models_score =pd.DataFrame({'Model':['Multiple Linear Regression','Decision Tree','Random forest Regression'],\n",
        "                            'Accuracy_train_Score':[mlr_score,decision_score,rf_score],\n",
        "                            'Accuracy_test_Score':[expl_mlr,expl_tr,expl_rf],\n",
        "                            'RMSE: ':[mlr_RMSE,tr_RMSE,rf_RMSE]\n",
        "                           })\n",
        "models_score.sort_values(by='Accuracy_train_Score',ascending=False)"
      ],
      "metadata": {
        "colab": {
          "base_uri": "https://localhost:8080/",
          "height": 143
        },
        "id": "3qF_x56NLWoX",
        "outputId": "ac2ce604-d862-47f7-cf17-f86f3baef5cd"
      },
      "execution_count": null,
      "outputs": [
        {
          "output_type": "execute_result",
          "data": {
            "text/plain": [
              "                        Model  Accuracy_train_Score  Accuracy_test_Score  \\\n",
              "1               Decision Tree              0.997459             0.997454   \n",
              "2    Random forest Regression              0.997451             0.997445   \n",
              "0  Multiple Linear Regression              0.903733             0.892969   \n",
              "\n",
              "     RMSE:   \n",
              "1  0.025335  \n",
              "2  0.025378  \n",
              "0  0.155957  "
            ],
            "text/html": [
              "\n",
              "  <div id=\"df-b40f9a2a-e537-4cd8-9031-6fee7318cd17\">\n",
              "    <div class=\"colab-df-container\">\n",
              "      <div>\n",
              "<style scoped>\n",
              "    .dataframe tbody tr th:only-of-type {\n",
              "        vertical-align: middle;\n",
              "    }\n",
              "\n",
              "    .dataframe tbody tr th {\n",
              "        vertical-align: top;\n",
              "    }\n",
              "\n",
              "    .dataframe thead th {\n",
              "        text-align: right;\n",
              "    }\n",
              "</style>\n",
              "<table border=\"1\" class=\"dataframe\">\n",
              "  <thead>\n",
              "    <tr style=\"text-align: right;\">\n",
              "      <th></th>\n",
              "      <th>Model</th>\n",
              "      <th>Accuracy_train_Score</th>\n",
              "      <th>Accuracy_test_Score</th>\n",
              "      <th>RMSE:</th>\n",
              "    </tr>\n",
              "  </thead>\n",
              "  <tbody>\n",
              "    <tr>\n",
              "      <th>1</th>\n",
              "      <td>Decision Tree</td>\n",
              "      <td>0.997459</td>\n",
              "      <td>0.997454</td>\n",
              "      <td>0.025335</td>\n",
              "    </tr>\n",
              "    <tr>\n",
              "      <th>2</th>\n",
              "      <td>Random forest Regression</td>\n",
              "      <td>0.997451</td>\n",
              "      <td>0.997445</td>\n",
              "      <td>0.025378</td>\n",
              "    </tr>\n",
              "    <tr>\n",
              "      <th>0</th>\n",
              "      <td>Multiple Linear Regression</td>\n",
              "      <td>0.903733</td>\n",
              "      <td>0.892969</td>\n",
              "      <td>0.155957</td>\n",
              "    </tr>\n",
              "  </tbody>\n",
              "</table>\n",
              "</div>\n",
              "      <button class=\"colab-df-convert\" onclick=\"convertToInteractive('df-b40f9a2a-e537-4cd8-9031-6fee7318cd17')\"\n",
              "              title=\"Convert this dataframe to an interactive table.\"\n",
              "              style=\"display:none;\">\n",
              "        \n",
              "  <svg xmlns=\"http://www.w3.org/2000/svg\" height=\"24px\"viewBox=\"0 0 24 24\"\n",
              "       width=\"24px\">\n",
              "    <path d=\"M0 0h24v24H0V0z\" fill=\"none\"/>\n",
              "    <path d=\"M18.56 5.44l.94 2.06.94-2.06 2.06-.94-2.06-.94-.94-2.06-.94 2.06-2.06.94zm-11 1L8.5 8.5l.94-2.06 2.06-.94-2.06-.94L8.5 2.5l-.94 2.06-2.06.94zm10 10l.94 2.06.94-2.06 2.06-.94-2.06-.94-.94-2.06-.94 2.06-2.06.94z\"/><path d=\"M17.41 7.96l-1.37-1.37c-.4-.4-.92-.59-1.43-.59-.52 0-1.04.2-1.43.59L10.3 9.45l-7.72 7.72c-.78.78-.78 2.05 0 2.83L4 21.41c.39.39.9.59 1.41.59.51 0 1.02-.2 1.41-.59l7.78-7.78 2.81-2.81c.8-.78.8-2.07 0-2.86zM5.41 20L4 18.59l7.72-7.72 1.47 1.35L5.41 20z\"/>\n",
              "  </svg>\n",
              "      </button>\n",
              "      \n",
              "  <style>\n",
              "    .colab-df-container {\n",
              "      display:flex;\n",
              "      flex-wrap:wrap;\n",
              "      gap: 12px;\n",
              "    }\n",
              "\n",
              "    .colab-df-convert {\n",
              "      background-color: #E8F0FE;\n",
              "      border: none;\n",
              "      border-radius: 50%;\n",
              "      cursor: pointer;\n",
              "      display: none;\n",
              "      fill: #1967D2;\n",
              "      height: 32px;\n",
              "      padding: 0 0 0 0;\n",
              "      width: 32px;\n",
              "    }\n",
              "\n",
              "    .colab-df-convert:hover {\n",
              "      background-color: #E2EBFA;\n",
              "      box-shadow: 0px 1px 2px rgba(60, 64, 67, 0.3), 0px 1px 3px 1px rgba(60, 64, 67, 0.15);\n",
              "      fill: #174EA6;\n",
              "    }\n",
              "\n",
              "    [theme=dark] .colab-df-convert {\n",
              "      background-color: #3B4455;\n",
              "      fill: #D2E3FC;\n",
              "    }\n",
              "\n",
              "    [theme=dark] .colab-df-convert:hover {\n",
              "      background-color: #434B5C;\n",
              "      box-shadow: 0px 1px 3px 1px rgba(0, 0, 0, 0.15);\n",
              "      filter: drop-shadow(0px 1px 2px rgba(0, 0, 0, 0.3));\n",
              "      fill: #FFFFFF;\n",
              "    }\n",
              "  </style>\n",
              "\n",
              "      <script>\n",
              "        const buttonEl =\n",
              "          document.querySelector('#df-b40f9a2a-e537-4cd8-9031-6fee7318cd17 button.colab-df-convert');\n",
              "        buttonEl.style.display =\n",
              "          google.colab.kernel.accessAllowed ? 'block' : 'none';\n",
              "\n",
              "        async function convertToInteractive(key) {\n",
              "          const element = document.querySelector('#df-b40f9a2a-e537-4cd8-9031-6fee7318cd17');\n",
              "          const dataTable =\n",
              "            await google.colab.kernel.invokeFunction('convertToInteractive',\n",
              "                                                     [key], {});\n",
              "          if (!dataTable) return;\n",
              "\n",
              "          const docLinkHtml = 'Like what you see? Visit the ' +\n",
              "            '<a target=\"_blank\" href=https://colab.research.google.com/notebooks/data_table.ipynb>data table notebook</a>'\n",
              "            + ' to learn more about interactive tables.';\n",
              "          element.innerHTML = '';\n",
              "          dataTable['output_type'] = 'display_data';\n",
              "          await google.colab.output.renderOutput(dataTable, element);\n",
              "          const docLink = document.createElement('div');\n",
              "          docLink.innerHTML = docLinkHtml;\n",
              "          element.appendChild(docLink);\n",
              "        }\n",
              "      </script>\n",
              "    </div>\n",
              "  </div>\n",
              "  "
            ]
          },
          "metadata": {},
          "execution_count": 53
        }
      ]
    }
  ]
}